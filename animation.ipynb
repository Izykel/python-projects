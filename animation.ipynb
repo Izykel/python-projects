{
 "cells": [
  {
   "cell_type": "code",
   "execution_count": 8,
   "id": "7bae989f-54a9-45a9-9c6d-6770fbc6c290",
   "metadata": {},
   "outputs": [
    {
     "data": {
      "image/png": "[encoded data removed]",
      "text/plain": [
       "<Figure size 1000x1000 with 1 Axes>"
      ]
     },
     "metadata": {},
     "output_type": "display_data"
    }
   ],
   "source": [
    "import numpy as np\n",
    "import matplotlib.pyplot as plt\n",
    "from matplotlib.animation import FuncAnimation\n",
    "from matplotlib.patches import Circle\n",
    "\n",
    "def create_spiral_sequence(n):\n",
    "    grid_size = int(np.ceil(np.sqrt(n)))\n",
    "    x, y = grid_size // 2, grid_size // 2\n",
    "    dx, dy = 0, -1\n",
    "    sequence = []\n",
    "\n",
    "    for num in range(1, n + 1):\n",
    "        sequence.append((y, x, num))\n",
    "        if not (0 <= x + dx < grid_size and 0 <= y + dy < grid_size) or any((a == y + dy and b == x + dx) for (a, b, _) in sequence):\n",
    "            dx, dy = dy, -dx\n",
    "        x += dx\n",
    "        y += dy\n",
    "\n",
    "    return grid_size, sequence\n",
    "\n",
    "def animate_spiral(n):\n",
    "    grid_size, sequence = create_spiral_sequence(n)\n",
    "    fig, ax = plt.subplots(figsize=(10, 10))\n",
    "    ax.set_aspect('equal')\n",
    "    ax.set_xlim(-1, grid_size)\n",
    "    ax.set_ylim(-1, grid_size)  # Correct ylim to match xlim\n",
    "    ax.set_axis_off()\n",
    "\n",
    "    max_val = n\n",
    "    cmap = plt.get_cmap('plasma')  # Updated colormap method\n",
    "    artists = []\n",
    "\n",
    "    def init():\n",
    "        return artists\n",
    "\n",
    "    def update(frame):\n",
    "        if frame >= len(sequence):\n",
    "            return []\n",
    "\n",
    "        y, x, num = sequence[frame]\n",
    "        color = cmap(num / max_val)\n",
    "        circle = Circle((x, grid_size - 1 - y), 0.4, color=color, ec='black')\n",
    "        text = ax.text(x, grid_size - 1 - y, str(num), ha='center', va='center', color='white', fontsize=8)\n",
    "        ax.add_patch(circle)\n",
    "        artists.append(circle)\n",
    "        artists.append(text)\n",
    "\n",
    "        # Ensure figure updates correctly\n",
    "        fig.canvas.draw()\n",
    "        fig.canvas.flush_events()\n",
    "\n",
    "        return artists\n",
    "\n",
    "    # Keep animation reference alive\n",
    "    global anim\n",
    "    anim = FuncAnimation(fig, update, frames=len(sequence), init_func=init, interval=50, blit=False)\n",
    "    plt.show()\n",
    "\n",
    "animate_spiral(100)\n"
   ]
  },
  {
   "cell_type": "code",
   "execution_count": 3,
   "id": "be001feb-3ab9-4e5f-8633-a58c2d1dd400",
   "metadata": {},
   "outputs": [
    {
     "name": "stderr",
     "output_type": "stream",
     "text": [
      "C:\\Users\\User\\AppData\\Local\\Temp\\ipykernel_16628\\892338571.py:31: MatplotlibDeprecationWarning: The get_cmap function was deprecated in Matplotlib 3.7 and will be removed in 3.11. Use ``matplotlib.colormaps[name]`` or ``matplotlib.colormaps.get_cmap()`` or ``pyplot.get_cmap()`` instead.\n",
      "  cmap = cm.get_cmap('plasma')\n"
     ]
    },
    {
     "data": {
      "image/png": "[encoded data removed]",
      "text/plain": [
       "<Figure size 1000x1000 with 1 Axes>"
      ]
     },
     "metadata": {},
     "output_type": "display_data"
    }
   ],
   "source": [
    "import numpy as np\n",
    "import matplotlib.pyplot as plt\n",
    "from matplotlib.animation import FuncAnimation\n",
    "from matplotlib.patches import Circle\n",
    "import matplotlib.cm as cm\n",
    "\n",
    "def create_spiral_sequence(n):\n",
    "    grid_size = int(np.ceil(np.sqrt(n)))\n",
    "    grid = np.zeros((grid_size,grid_size), dtype=int)\n",
    "    x,y = grid_size // 2, grid_size // 2\n",
    "    dx, dy =0,-1\n",
    "    sequence = [] \n",
    "\n",
    "    for num in range(1, n + 1):\n",
    "        sequence.append((y, x, num))\n",
    "        if not (0 <= x + dx < grid_size and 0 <= y + dy < grid_size) or any ((a == y + dy and b == x + dx) for (a,b,_) in sequence):\n",
    "            dx, dy = dy, -dx\n",
    "        x += dx\n",
    "        y += dy\n",
    "    return grid_size, sequence\n",
    "\n",
    "def animate_spiral(n):\n",
    "    grid_size, sequence = create_spiral_sequence(n)\n",
    "    fig, ax = plt.subplots(figsize=(10, 10))\n",
    "    ax.set_aspect('equal')\n",
    "    ax.set_xlim(-1,grid_size)\n",
    "    ax.set_xlim(-1,grid_size)\n",
    "    ax.set_axis_off()\n",
    "\n",
    "    max_val = n\n",
    "    cmap = cm.get_cmap('plasma')\n",
    "    artists = []\n",
    "\n",
    "    def init():\n",
    "        return[]\n",
    "\n",
    "    def update(frame):\n",
    "        if frame >= len(sequence):\n",
    "            return[]\n",
    "\n",
    "        y,x, num = sequence[frame]\n",
    "        color = cmap(num/max_val)\n",
    "        circle = Circle((x,grid_size - 1 - y), 0.4, color=color, ec='black')\n",
    "        text =ax.text(x, grid_size -1 -y, str(num), ha='center', va='center', color='white', fontsize=8)\n",
    "        ax.add_patch(circle)\n",
    "        artists.append(circle)\n",
    "        artists.append(text)\n",
    "        return [circle, text]\n",
    "\n",
    "    anim = FuncAnimation(fig,update, frames=len(sequence) + 10, init_func=init, interval=50, blit=True)\n",
    "    plt.show()\n",
    "animate_spiral(100)\n",
    "    "
   ]
  },
  {
   "cell_type": "code",
   "execution_count": null,
   "id": "3626a560-88cd-4eda-9d8c-e981781c4ac2",
   "metadata": {},
   "outputs": [],
   "source": []
  }
 ],
 "metadata": {
  "kernelspec": {
   "display_name": "Python [conda env:base] *",
   "language": "python",
   "name": "conda-base-py"
  },
  "language_info": {
   "codemirror_mode": {
    "name": "ipython",
    "version": 3
   },
   "file_extension": ".py",
   "mimetype": "text/x-python",
   "name": "python",
   "nbconvert_exporter": "python",
   "pygments_lexer": "ipython3",
   "version": "3.12.7"
  }
 },
 "nbformat": 4,
 "nbformat_minor": 5
}
